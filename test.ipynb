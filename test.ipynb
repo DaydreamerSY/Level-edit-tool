{
 "cells": [
  {
   "cell_type": "code",
   "execution_count": 13,
   "metadata": {},
   "outputs": [],
   "source": [
    "import json\n",
    "import pandas as pd"
   ]
  },
  {
   "cell_type": "code",
   "execution_count": 14,
   "metadata": {},
   "outputs": [],
   "source": [
    "data_board = json.load(open(\"chapter0.json\", \"r\"))\n",
    "list_level = data_board[\"ListLevelsInChapter\"]\n",
    "\n",
    "data_words = pd.read_csv(\"words1.0.26.csv\")\n",
    "list_words = data_words[\"normal words\"].to_list()"
   ]
  },
  {
   "cell_type": "code",
   "execution_count": 15,
   "metadata": {},
   "outputs": [
    {
     "name": "stdout",
     "output_type": "stream",
     "text": [
      "{'w': 4, 'h': 3, 'b': [{'v': 'P', 'i': 1, 'ic': False, 'iw': 0}, {'v': ' ', 'i': 0, 'ic': False, 'iw': 0}, {'v': ' ', 'i': 0, 'ic': False, 'iw': 0}, {'v': 'A', 'i': 1, 'ic': False, 'iw': 0}, {'v': ' ', 'i': 0, 'ic': False, 'iw': 0}, {'v': 'A', 'i': 0, 'ic': False, 'iw': 0}, {'v': 'T', 'i': 1, 'ic': True, 'iw': 2}, {'v': 'A', 'i': 2, 'ic': False, 'iw': 0}, {'v': 'P', 'i': 0, 'ic': True, 'iw': 2}, {'v': ' ', 'i': 0, 'ic': False, 'iw': 0}, {'v': ' ', 'i': 0, 'ic': False, 'iw': 0}, {'v': 'T', 'i': 0, 'ic': False, 'iw': 0}]}\n",
      "3\n",
      "4\n",
      "[{'v': 'P', 'i': 1, 'ic': False, 'iw': 0}, {'v': ' ', 'i': 0, 'ic': False, 'iw': 0}, {'v': ' ', 'i': 0, 'ic': False, 'iw': 0}, {'v': 'A', 'i': 1, 'ic': False, 'iw': 0}, {'v': ' ', 'i': 0, 'ic': False, 'iw': 0}, {'v': 'A', 'i': 0, 'ic': False, 'iw': 0}, {'v': 'T', 'i': 1, 'ic': True, 'iw': 2}, {'v': 'A', 'i': 2, 'ic': False, 'iw': 0}, {'v': 'P', 'i': 0, 'ic': True, 'iw': 2}, {'v': ' ', 'i': 0, 'ic': False, 'iw': 0}, {'v': ' ', 'i': 0, 'ic': False, 'iw': 0}, {'v': 'T', 'i': 0, 'ic': False, 'iw': 0}]\n",
      "['APT', 'PAT', 'TAP']\n"
     ]
    }
   ],
   "source": [
    "selected_level = 2\n",
    "level_n = list_level[selected_level]\n",
    "size_w = level_n[\"h\"]\n",
    "size_h = level_n[\"w\"]\n",
    "board = level_n[\"b\"]\n",
    "level_n_words = [i.upper() for i in list_words[selected_level].split(\" - \")]\n",
    "\n",
    "print(level_n)\n",
    "print(size_w)\n",
    "print(size_h)\n",
    "print(board)\n",
    "print(level_n_words)"
   ]
  },
  {
   "cell_type": "code",
   "execution_count": 16,
   "metadata": {},
   "outputs": [
    {
     "name": "stdout",
     "output_type": "stream",
     "text": [
      "P     \n",
      "A   A \n",
      "T A P \n",
      "    T \n",
      "\n",
      "0 - APT\n",
      "1 - PAT\n",
      "2 - TAP\n"
     ]
    }
   ],
   "source": [
    "# draw the board and convert to array, also create board of index\n",
    "row_ele_count = 0\n",
    "\n",
    "board_array = [[\" \" for x in range(size_w)] for y in range(size_h)]\n",
    "c_col = 0\n",
    "c_row = 0\n",
    "\n",
    "# index_store = {\n",
    "#   1: [{\"r\": 0, \"c\": 0}, {\"r\": 0, \"c\": 1}, {\"r\": 0, \"c\": 2}]\n",
    "# }\n",
    "# which index 1 is WHO in horizontal and start at {\"r\": 0, \"c\": 0} in board_array\n",
    "index_store = {}\n",
    "\n",
    "for cell in board:\n",
    "    print(f\"{cell['v']}\", end=\" \")\n",
    "    board_array[c_row][c_col] = cell['v']\n",
    "\n",
    "    if not cell['v'] == ' ':\n",
    "        if cell[\"i\"] not in index_store:\n",
    "            index_store[cell[\"i\"]] = [{\"r\": c_row, \"c\": c_col}]\n",
    "        else:\n",
    "            index_store[cell[\"i\"]].append({\"r\": c_row, \"c\": c_col})\n",
    "\n",
    "        if cell[\"ic\"]:\n",
    "            if cell[\"iw\"] not in index_store:\n",
    "                index_store[cell[\"iw\"]] = [{\"r\": c_row, \"c\": c_col}]\n",
    "            else:\n",
    "                index_store[cell[\"iw\"]].append({\"r\": c_row, \"c\": c_col})\n",
    "\n",
    "    row_ele_count += 1\n",
    "    c_col += 1\n",
    "    if row_ele_count == size_w:\n",
    "        print()\n",
    "        row_ele_count = 0\n",
    "        c_row += 1\n",
    "        c_col = 0\n",
    "\n",
    "# get word's index\n",
    "print()\n",
    "for i in range(len(level_n_words)):\n",
    "    print(f\"{i} - {level_n_words[i]}\")"
   ]
  },
  {
   "cell_type": "code",
   "execution_count": 17,
   "metadata": {},
   "outputs": [
    {
     "data": {
      "text/plain": [
       "[['P', ' ', ' '], ['A', ' ', 'A'], ['T', 'A', 'P'], [' ', ' ', 'T']]"
      ]
     },
     "execution_count": 17,
     "metadata": {},
     "output_type": "execute_result"
    }
   ],
   "source": [
    "board_array"
   ]
  },
  {
   "cell_type": "code",
   "execution_count": 18,
   "metadata": {},
   "outputs": [
    {
     "data": {
      "text/plain": [
       "{1: [{'r': 0, 'c': 0}, {'r': 1, 'c': 0}, {'r': 2, 'c': 0}],\n",
       " 0: [{'r': 1, 'c': 2}, {'r': 2, 'c': 2}, {'r': 3, 'c': 2}],\n",
       " 2: [{'r': 2, 'c': 0}, {'r': 2, 'c': 1}, {'r': 2, 'c': 2}]}"
      ]
     },
     "execution_count": 18,
     "metadata": {},
     "output_type": "execute_result"
    }
   ],
   "source": [
    "index_store"
   ]
  },
  {
   "cell_type": "code",
   "execution_count": 19,
   "metadata": {},
   "outputs": [
    {
     "name": "stdout",
     "output_type": "stream",
     "text": [
      "- - - - - - - - - - - - - - - - - - - - - - - - - - \n",
      "- - - - - - - - - - - - - - - - - - - - - - - - - - \n",
      "- - - - - - - - - - - - - - - - - - - - - - - - - - \n",
      "- - - - - - - - - - - - - - - - - - - - - - - - - - \n",
      "- - - - - - - - - - - - - - - - - - - - - - - - - - \n",
      "- - - - - P - - - - - - - - - - - - - - - - - - - - \n",
      "- - - - - A - A - - - - - - - - - - - - - - - - - - \n",
      "- - - - - T A P - - - - - - - - - - - - - - - - - - \n",
      "- - - - - - - T - - - - - - - - - - - - - - - - - - \n",
      "- - - - - - - - - - - - - - - - - - - - - - - - - - \n",
      "- - - - - - - - - - - - - - - - - - - - - - - - - - \n",
      "- - - - - - - - - - - - - - - - - - - - - - - - - - \n",
      "- - - - - - - - - - - - - - - - - - - - - - - - - - \n",
      "- - - - - - - - - - - - - - - - - - - - - - - - - - \n",
      "- - - - - - - - - - - - - - - - - - - - - - - - - - \n",
      "- - - - - - - - - - - - - - - - - - - - - - - - - - \n",
      "- - - - - - - - - - - - - - - - - - - - - - - - - - \n",
      "- - - - - - - - - - - - - - - - - - - - - - - - - - \n",
      "- - - - - - - - - - - - - - - - - - - - - - - - - - \n",
      "- - - - - - - - - - - - - - - - - - - - - - - - - - \n",
      "- - - - - - - - - - - - - - - - - - - - - - - - - - \n",
      "- - - - - - - - - - - - - - - - - - - - - - - - - - \n",
      "- - - - - - - - - - - - - - - - - - - - - - - - - - \n",
      "- - - - - - - - - - - - - - - - - - - - - - - - - - \n",
      "- - - - - - - - - - - - - - - - - - - - - - - - - - \n",
      "- - - - - - - - - - - - - - - - - - - - - - - - - - \n"
     ]
    }
   ],
   "source": [
    "# insert board into bigger board 25x25\n",
    "\n",
    "level_edit_size = 26\n",
    "\n",
    "level_edit = [[\" \" for x in range(level_edit_size)] for y in range(level_edit_size)]\n",
    "start_point_row = 5\n",
    "start_point_col = 5\n",
    "\n",
    "# first col and first row will be toạ độ coordinates symbol\n",
    "for i in range(26):\n",
    "    level_edit[0][i] = i % 10\n",
    "    level_edit[i][0] = i % 10\n",
    "\n",
    "# import index_store to level_edit: scale coordinates to larger coordinates in level_edit\n",
    "for index in index_store:\n",
    "    for coor in index_store[index]:\n",
    "        coor[\"r\"] += start_point_row\n",
    "        coor[\"c\"] += start_point_col\n",
    "\n",
    "def _update_level_index():\n",
    "    global level_edit\n",
    "    # convert word with index to level_edit from index_store\n",
    "    for r in range(level_edit_size):\n",
    "        for c in range(level_edit_size):\n",
    "\n",
    "            is_set = False # check if set Letter for cell\n",
    "\n",
    "            for index in index_store:\n",
    "                i = 0 # index of letter in word\n",
    "                for coor in index_store[index]:\n",
    "                    if r == coor[\"r\"] and c == coor[\"c\"]:\n",
    "                        level_edit[r][c] = level_n_words[index][i]\n",
    "                        is_set = True\n",
    "                        break\n",
    "                    i += 1 # move to next letter\n",
    "\n",
    "            if not is_set:\n",
    "                level_edit[r][c] = \" \"\n",
    "\n",
    "    # for r in level_edit:\n",
    "    #     for c in r:\n",
    "    #         if c == \" \":\n",
    "    #             print(\"-\", end=\" \")\n",
    "    #         else:\n",
    "    #             print(c, end=\" \")\n",
    "    #     print()\n",
    "\n",
    "\n",
    "# print level_edit\n",
    "def _print_level_edit():\n",
    "    global level_edit\n",
    "    for r in level_edit:\n",
    "        for c in r:\n",
    "            if c == \" \":\n",
    "                print(\"-\", end=\" \")\n",
    "            else:\n",
    "                print(c, end=\" \")\n",
    "        print()\n",
    "\n",
    "_update_level_index()\n",
    "_print_level_edit()"
   ]
  },
  {
   "cell_type": "code",
   "execution_count": 20,
   "metadata": {},
   "outputs": [],
   "source": [
    "# select word\n",
    "word_select_index = 0\n",
    "\n",
    "def _move_left(word_index):\n",
    "    global index_store\n",
    "    for coor in index_store[word_index]:\n",
    "        coor[\"c\"] -= 1\n",
    "\n",
    "def _move_right(word_index):\n",
    "    global index_store\n",
    "    for coor in index_store[word_index]:\n",
    "        coor[\"c\"] += 1\n",
    "\n",
    "def _move_down(word_index):\n",
    "    global index_store\n",
    "    for coor in index_store[word_index]:\n",
    "        coor[\"r\"] += 1\n",
    "\n",
    "def _move_up(word_index):\n",
    "    global index_store\n",
    "    for coor in index_store[word_index]:\n",
    "        coor[\"r\"] -= 1\n",
    "\n",
    "def _rotate_vertical(word_index):\n",
    "    global index_store\n",
    "\n",
    "    # [13,14], [13,15], [13,16] should turn into [13,14], [14,14], [15,14] when rotate vertcal\n",
    "\n",
    "    step = 0\n",
    "    for coor in index_store[word_index]:\n",
    "        coor[\"r\"] += step\n",
    "        coor[\"c\"] -= step\n",
    "        step += 1\n",
    "\n",
    "def _rotate_horizontal(word_index):\n",
    "    global index_store\n",
    "\n",
    "    # [13,14], [14,14], [15,14] should turn into [13,14], [13,15], [13,16] when rotate horizontal\n",
    "\n",
    "    step = 0\n",
    "    for coor in index_store[word_index]:\n",
    "        coor[\"r\"] -= step\n",
    "        coor[\"c\"] += step\n",
    "        step += 1"
   ]
  },
  {
   "cell_type": "code",
   "execution_count": 21,
   "metadata": {},
   "outputs": [
    {
     "name": "stdout",
     "output_type": "stream",
     "text": [
      "5\n",
      "5\n",
      "0\n",
      "0\n"
     ]
    },
    {
     "data": {
      "text/plain": [
       "[['P', ' ', ' '], ['A', ' ', 'A'], ['T', 'A', 'P'], [' ', ' ', 'T']]"
      ]
     },
     "execution_count": 21,
     "metadata": {},
     "output_type": "execute_result"
    }
   ],
   "source": [
    "# save to file\n",
    "\n",
    "# find top-most and left-most coors in index_store\n",
    "top_most_coor = level_edit_size\n",
    "left_most_coor = level_edit_size\n",
    "bottom_most_coor = 0\n",
    "right_most_coor = 0\n",
    "\n",
    "for index in index_store:\n",
    "    for coor in index_store[index]:\n",
    "        if coor[\"r\"] <= top_most_coor:\n",
    "            top_most_coor= coor[\"r\"]\n",
    "\n",
    "        if coor[\"c\"] <= left_most_coor:\n",
    "            left_most_coor= coor[\"c\"]\n",
    "            \n",
    "print(top_most_coor)\n",
    "print(left_most_coor)\n",
    "print(bottom_most_coor)\n",
    "print(right_most_coor)\n",
    "\n",
    "\n",
    "\n",
    "# move all index in index_store to fit coor\n",
    "for index in index_store:\n",
    "    for coor in index_store[index]:\n",
    "        coor[\"r\"] -= top_most_coor\n",
    "        coor[\"c\"] -= left_most_coor\n",
    "\n",
    "for index in index_store:\n",
    "    for coor in index_store[index]:\n",
    "        if coor[\"r\"] >= bottom_most_coor:\n",
    "            bottom_most_coor= coor[\"r\"]\n",
    "\n",
    "        if coor[\"c\"] >= right_most_coor:\n",
    "            right_most_coor= coor[\"c\"]\n",
    "\n",
    "right_most_coor += 1\n",
    "bottom_most_coor += 1\n",
    "after_edit"
   ]
  },
  {
   "cell_type": "code",
   "execution_count": 22,
   "metadata": {},
   "outputs": [],
   "source": [
    "# get board_array_after_edit\n",
    "after_edit = [[\" \" for x in range(right_most_coor)] for y in range(bottom_most_coor)]\n",
    "\n",
    "for r in range(bottom_most_coor):\n",
    "        for c in range(right_most_coor):\n",
    "\n",
    "            is_set = False # check if set Letter for cell\n",
    "\n",
    "            for index in index_store:\n",
    "                i = 0 # index of letter in word\n",
    "                for coor in index_store[index]:\n",
    "                    if r == coor[\"r\"] and c == coor[\"c\"]:\n",
    "                        after_edit[r][c] = level_n_words[index][i]\n",
    "                        is_set = True\n",
    "                        break\n",
    "                    i += 1 # move to next letter\n",
    "\n",
    "            if not is_set:\n",
    "                after_edit[r][c] = \" \""
   ]
  },
  {
   "cell_type": "code",
   "execution_count": 23,
   "metadata": {},
   "outputs": [
    {
     "data": {
      "text/plain": [
       "[{'v': 'P', 'i': 1, 'ic': False, 'iw': 0},\n",
       " {'v': ' ', 'i': 0, 'ic': False, 'iw': 0},\n",
       " {'v': ' ', 'i': 0, 'ic': False, 'iw': 0},\n",
       " {'v': 'A', 'i': 1, 'ic': False, 'iw': 0},\n",
       " {'v': ' ', 'i': 0, 'ic': False, 'iw': 0},\n",
       " {'v': 'A', 'i': 0, 'ic': False, 'iw': 0},\n",
       " {'v': 'T', 'i': 1, 'ic': True, 'iw': 2},\n",
       " {'v': 'A', 'i': 2, 'ic': False, 'iw': 0},\n",
       " {'v': 'P', 'i': 0, 'ic': True, 'iw': 2},\n",
       " {'v': ' ', 'i': 0, 'ic': False, 'iw': 0},\n",
       " {'v': ' ', 'i': 0, 'ic': False, 'iw': 0},\n",
       " {'v': 'T', 'i': 0, 'ic': False, 'iw': 0}]"
      ]
     },
     "execution_count": 23,
     "metadata": {},
     "output_type": "execute_result"
    }
   ],
   "source": [
    "# save to file\n",
    "# list_level[selected_level] = output\n",
    "# output = [\n",
    "#     {'v': ' ', 'i': 0, 'ic': False, 'iw': 0}, \n",
    "#     {'v': ' ', 'i': 0, 'ic': False, 'iw': 0},\n",
    "#     ...\n",
    "# ]\n",
    "\n",
    "output_lv = []\n",
    "\n",
    "for r in range(bottom_most_coor):\n",
    "    for c in range(right_most_coor):\n",
    "        if after_edit[r][c] == \" \":\n",
    "            output_lv.append(\n",
    "                {'v': ' ', 'i': 0, 'ic': False, 'iw': 0}\n",
    "            )\n",
    "        else:\n",
    "            _temp = {'v': ' ', 'i': 0, 'ic': False, 'iw': 0} \n",
    "            is_check_cross = False # True to continues search for crossword\n",
    "            for index in index_store:\n",
    "\n",
    "                if not is_check_cross:\n",
    "                    for coor in index_store[index]:\n",
    "                        if r == coor[\"r\"] and c == coor[\"c\"]:\n",
    "                            _temp['v'] = after_edit[r][c]\n",
    "                            _temp['i'] = index\n",
    "                            is_check_cross = True\n",
    "                            break\n",
    "                else:\n",
    "                    for coor in index_store[index]:\n",
    "                        if r == coor[\"r\"] and c == coor[\"c\"]:\n",
    "                            _temp['iw'] = index\n",
    "                            _temp['ic'] = True\n",
    "                            break\n",
    "\n",
    "            output_lv.append(_temp.copy())\n",
    "            _temp.clear()\n",
    "\n",
    "output_lv\n"
   ]
  },
  {
   "cell_type": "code",
   "execution_count": 16,
   "metadata": {},
   "outputs": [],
   "source": [
    "# swap level\n",
    "\n",
    "\n",
    "\n",
    "\n",
    "\n",
    "# DO BACKUP BEFORE SWAP\n",
    "\n",
    "# DO BACKUP BEFORE SWAP\n",
    "\n",
    "# DO BACKUP BEFORE SWAP\n",
    "\n",
    "# DO BACKUP BEFORE SWAP\n",
    "\n",
    "# DO BACKUP BEFORE SWAP\n",
    "\n",
    "# DO BACKUP BEFORE SWAP\n",
    "\n",
    "# DO BACKUP BEFORE SWAP\n",
    "\n",
    "\n",
    "\n",
    "\n",
    "\n",
    "\n",
    "\n",
    "\n",
    "\n",
    "\n",
    "\n",
    "import json\n",
    "import pandas as pd\n",
    "\n",
    "swap_a_with_b = {\n",
    "    \"a\": 34,\n",
    "    \"b\": 36\n",
    "}\n",
    "\n",
    "swap_lv_a = swap_a_with_b['a'] - 1\n",
    "swap_lv_b = swap_a_with_b['b'] - 1\n",
    "\n",
    "data_board = json.load(open(\"swap/chapter0.json\", \"r\"))\n",
    "list_level = data_board[\"ListLevelsInChapter\"]\n",
    "\n",
    "data_words = \"\"\n",
    "with open(\"swap/level-list.txt\", \"r\") as r:\n",
    "    lines = r.readlines()\n",
    "    data_words = [i.replace(\"\\n\", \"\") for i in lines]\n",
    "\n",
    "list_words = data_words\n"
   ]
  },
  {
   "cell_type": "code",
   "execution_count": 17,
   "metadata": {},
   "outputs": [
    {
     "name": "stdout",
     "output_type": "stream",
     "text": [
      "{'b': [{'i': 0, 'ic': False, 'iw': 0, 'v': ' '}, {'i': 7, 'ic': False, 'iw': 0, 'v': 'S'}, {'i': 7, 'ic': False, 'iw': 0, 'v': 'A'}, {'i': 7, 'ic': True, 'iw': 4, 'v': 'T'}, {'i': 7, 'ic': False, 'iw': 0, 'v': 'I'}, {'i': 7, 'ic': False, 'iw': 0, 'v': 'N'}, {'i': 0, 'ic': False, 'iw': 0, 'v': ' '}, {'i': 0, 'ic': False, 'iw': 0, 'v': ' '}, {'i': 0, 'ic': False, 'iw': 0, 'v': ' '}, {'i': 0, 'ic': False, 'iw': 0, 'v': ' '}, {'i': 4, 'ic': False, 'iw': 0, 'v': 'A'}, {'i': 0, 'ic': False, 'iw': 0, 'v': ' '}, {'i': 0, 'ic': False, 'iw': 0, 'v': ' '}, {'i': 0, 'ic': False, 'iw': 0, 'v': ' '}, {'i': 6, 'ic': False, 'iw': 0, 'v': 'S'}, {'i': 6, 'ic': False, 'iw': 0, 'v': 'A'}, {'i': 6, 'ic': True, 'iw': 1, 'v': 'I'}, {'i': 4, 'ic': True, 'iw': 6, 'v': 'N'}, {'i': 6, 'ic': False, 'iw': 0, 'v': 'T'}, {'i': 0, 'ic': False, 'iw': 0, 'v': ' '}, {'i': 0, 'ic': False, 'iw': 0, 'v': ' '}, {'i': 0, 'ic': False, 'iw': 0, 'v': ' '}, {'i': 0, 'ic': False, 'iw': 0, 'v': ' '}, {'i': 1, 'ic': False, 'iw': 0, 'v': 'T'}, {'i': 0, 'ic': False, 'iw': 0, 'v': ' '}, {'i': 0, 'ic': False, 'iw': 0, 'v': ' '}, {'i': 0, 'ic': False, 'iw': 0, 'v': ' '}, {'i': 0, 'ic': False, 'iw': 0, 'v': ' '}, {'i': 0, 'ic': False, 'iw': 0, 'v': ' '}, {'i': 0, 'ic': False, 'iw': 0, 'v': ' '}, {'i': 1, 'ic': True, 'iw': 8, 'v': 'S'}, {'i': 8, 'ic': False, 'iw': 0, 'v': 'T'}, {'i': 8, 'ic': False, 'iw': 0, 'v': 'A'}, {'i': 8, 'ic': False, 'iw': 0, 'v': 'I'}, {'i': 8, 'ic': False, 'iw': 0, 'v': 'N'}, {'i': 0, 'ic': False, 'iw': 0, 'v': ' '}, {'i': 0, 'ic': False, 'iw': 0, 'v': ' '}, {'i': 0, 'ic': False, 'iw': 0, 'v': ' '}, {'i': 0, 'ic': False, 'iw': 0, 'v': ' '}, {'i': 0, 'ic': False, 'iw': 0, 'v': ' '}, {'i': 0, 'ic': False, 'iw': 0, 'v': ' '}, {'i': 0, 'ic': False, 'iw': 0, 'v': ' '}, {'i': 0, 'ic': False, 'iw': 0, 'v': ' '}, {'i': 0, 'ic': False, 'iw': 0, 'v': ' '}, {'i': 0, 'ic': False, 'iw': 0, 'v': 'A'}, {'i': 0, 'ic': False, 'iw': 0, 'v': ' '}, {'i': 2, 'ic': True, 'iw': 3, 'v': 'S'}, {'i': 3, 'ic': False, 'iw': 0, 'v': 'I'}, {'i': 3, 'ic': False, 'iw': 0, 'v': 'T'}, {'i': 0, 'ic': False, 'iw': 0, 'v': ' '}, {'i': 0, 'ic': False, 'iw': 0, 'v': ' '}, {'i': 0, 'ic': False, 'iw': 0, 'v': 'N'}, {'i': 0, 'ic': False, 'iw': 0, 'v': ' '}, {'i': 2, 'ic': False, 'iw': 0, 'v': 'I'}, {'i': 0, 'ic': False, 'iw': 0, 'v': ' '}, {'i': 0, 'ic': False, 'iw': 0, 'v': ' '}, {'i': 0, 'ic': False, 'iw': 0, 'v': ' '}, {'i': 0, 'ic': False, 'iw': 0, 'v': ' '}, {'i': 0, 'ic': True, 'iw': 5, 'v': 'T'}, {'i': 5, 'ic': False, 'iw': 0, 'v': 'I'}, {'i': 2, 'ic': True, 'iw': 5, 'v': 'N'}, {'i': 5, 'ic': False, 'iw': 0, 'v': 'S'}, {'i': 0, 'ic': False, 'iw': 0, 'v': ' '}], 'h': 7, 'w': 9}\n",
      "ant - its - sin - sit - tan - tins - saint - satin - stain\n",
      "{'b': [{'i': 0, 'ic': False, 'iw': 0, 'v': ' '}, {'i': 0, 'ic': False, 'iw': 0, 'v': 'D'}, {'i': 0, 'ic': False, 'iw': 0, 'v': ' '}, {'i': 6, 'ic': False, 'iw': 0, 'v': 'M'}, {'i': 0, 'ic': False, 'iw': 0, 'v': ' '}, {'i': 1, 'ic': False, 'iw': 0, 'v': 'M'}, {'i': 1, 'ic': True, 'iw': 4, 'v': 'I'}, {'i': 1, 'ic': False, 'iw': 0, 'v': 'D'}, {'i': 5, 'ic': False, 'iw': 0, 'v': 'M'}, {'i': 0, 'ic': True, 'iw': 5, 'v': 'I'}, {'i': 5, 'ic': False, 'iw': 0, 'v': 'C'}, {'i': 6, 'ic': True, 'iw': 5, 'v': 'E'}, {'i': 0, 'ic': False, 'iw': 0, 'v': ' '}, {'i': 0, 'ic': False, 'iw': 0, 'v': ' '}, {'i': 4, 'ic': False, 'iw': 0, 'v': 'C'}, {'i': 0, 'ic': False, 'iw': 0, 'v': ' '}, {'i': 0, 'ic': False, 'iw': 0, 'v': ' '}, {'i': 0, 'ic': False, 'iw': 0, 'v': 'M'}, {'i': 0, 'ic': False, 'iw': 0, 'v': ' '}, {'i': 6, 'ic': True, 'iw': 3, 'v': 'D'}, {'i': 3, 'ic': False, 'iw': 0, 'v': 'I'}, {'i': 3, 'ic': False, 'iw': 0, 'v': 'M'}, {'i': 4, 'ic': True, 'iw': 3, 'v': 'E'}, {'i': 0, 'ic': False, 'iw': 0, 'v': ' '}, {'i': 0, 'ic': False, 'iw': 0, 'v': ' '}, {'i': 0, 'ic': False, 'iw': 0, 'v': ' '}, {'i': 0, 'ic': False, 'iw': 0, 'v': ' '}, {'i': 6, 'ic': False, 'iw': 0, 'v': 'I'}, {'i': 0, 'ic': False, 'iw': 0, 'v': ' '}, {'i': 0, 'ic': False, 'iw': 0, 'v': ' '}, {'i': 4, 'ic': False, 'iw': 0, 'v': 'D'}, {'i': 0, 'ic': False, 'iw': 0, 'v': ' '}, {'i': 0, 'ic': False, 'iw': 0, 'v': ' '}, {'i': 2, 'ic': False, 'iw': 0, 'v': 'D'}, {'i': 2, 'ic': False, 'iw': 0, 'v': 'I'}, {'i': 6, 'ic': True, 'iw': 2, 'v': 'C'}, {'i': 2, 'ic': False, 'iw': 0, 'v': 'E'}, {'i': 0, 'ic': False, 'iw': 0, 'v': ' '}, {'i': 0, 'ic': False, 'iw': 0, 'v': ' '}, {'i': 0, 'ic': False, 'iw': 0, 'v': ' '}], 'h': 8, 'w': 5}\n",
      "dim - mid - dice - dime - iced - mice - medic\n"
     ]
    }
   ],
   "source": [
    "print(list_level[swap_lv_a])\n",
    "print(list_words[swap_lv_a])\n",
    "\n",
    "list_level[swap_lv_a], list_level[swap_lv_b] = list_level[swap_lv_b], list_level[swap_lv_a]\n",
    "list_words[swap_lv_a], list_words[swap_lv_b] = list_words[swap_lv_b], list_words[swap_lv_a]\n",
    "\n",
    "print(list_level[swap_lv_a])\n",
    "print(list_words[swap_lv_a])"
   ]
  },
  {
   "cell_type": "code",
   "execution_count": 18,
   "metadata": {},
   "outputs": [],
   "source": [
    "data_board[\"ListLevelsInChapter\"] = list_level\n",
    "\n",
    "with open(\"swap/swapped/chapter0.json\", \"w\") as save:\n",
    "    json.dump(data_board, save)\n",
    "    save.close()\n",
    "        \n",
    "with open(\"swap/swapped/level-list.txt\", \"w\") as w:\n",
    "    line_count = 1\n",
    "    total_level = len(list_words)\n",
    "    for level in list_words:\n",
    "        if line_count < total_level:\n",
    "            w.write(f\"{level}\\n\")\n",
    "            line_count += 1\n",
    "        else:\n",
    "            w.write(f\"{level}\")\n",
    "    w.close()"
   ]
  }
 ],
 "metadata": {
  "kernelspec": {
   "display_name": "Python 3",
   "language": "python",
   "name": "python3"
  },
  "language_info": {
   "codemirror_mode": {
    "name": "ipython",
    "version": 3
   },
   "file_extension": ".py",
   "mimetype": "text/x-python",
   "name": "python",
   "nbconvert_exporter": "python",
   "pygments_lexer": "ipython3",
   "version": "3.9.6"
  },
  "orig_nbformat": 4
 },
 "nbformat": 4,
 "nbformat_minor": 2
}
